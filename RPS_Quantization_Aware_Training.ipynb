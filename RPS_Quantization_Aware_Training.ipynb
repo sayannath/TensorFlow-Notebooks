{
  "nbformat": 4,
  "nbformat_minor": 0,
  "metadata": {
    "colab": {
      "name": "RPS Quantization Aware Training.ipynb",
      "provenance": [],
      "collapsed_sections": []
    },
    "kernelspec": {
      "name": "python3",
      "display_name": "Python 3"
    },
    "language_info": {
      "name": "python"
    },
    "accelerator": "GPU"
  },
  "cells": [
    {
      "cell_type": "markdown",
      "metadata": {
        "id": "wGXdqVmi5fEN"
      },
      "source": [
        "# [Quantization Aware Training](https://www.tensorflow.org/model_optimization/guide/quantization/training)\n",
        "\n",
        "Implementing quantisation aware training technique on RPS Dataset.\n",
        "\n",
        "\n",
        "Author: [Sayan Nath](http://github.com/sayannath)<br>\n",
        "Last Updated: 2021/03/29\n",
        "<br>\n",
        "<br>\n",
        "<a href=\"https://colab.research.google.com/drive/1Wdso2N_76E8Xxniqd4C6T1sV5BuhKN1o?usp=sharing\" target=\"_parent\"><img src=\"https://colab.research.google.com/assets/colab-badge.svg\" alt=\"Open In Colab\"/></a>"
      ]
    },
    {
      "cell_type": "markdown",
      "metadata": {
        "id": "X3lj4RLb56TM"
      },
      "source": [
        "## Intital Setup"
      ]
    },
    {
      "cell_type": "code",
      "metadata": {
        "colab": {
          "base_uri": "https://localhost:8080/"
        },
        "id": "JDveHwKM5AbD",
        "outputId": "0dcf7e86-b995-4466-a8f6-c1fc4ac6945b"
      },
      "source": [
        "!nvidia-smi"
      ],
      "execution_count": 1,
      "outputs": [
        {
          "output_type": "stream",
          "text": [
            "Mon Mar 29 12:09:25 2021       \n",
            "+-----------------------------------------------------------------------------+\n",
            "| NVIDIA-SMI 460.56       Driver Version: 460.32.03    CUDA Version: 11.2     |\n",
            "|-------------------------------+----------------------+----------------------+\n",
            "| GPU  Name        Persistence-M| Bus-Id        Disp.A | Volatile Uncorr. ECC |\n",
            "| Fan  Temp  Perf  Pwr:Usage/Cap|         Memory-Usage | GPU-Util  Compute M. |\n",
            "|                               |                      |               MIG M. |\n",
            "|===============================+======================+======================|\n",
            "|   0  Tesla T4            Off  | 00000000:00:04.0 Off |                    0 |\n",
            "| N/A   45C    P8    10W /  70W |      0MiB / 15109MiB |      0%      Default |\n",
            "|                               |                      |                  N/A |\n",
            "+-------------------------------+----------------------+----------------------+\n",
            "                                                                               \n",
            "+-----------------------------------------------------------------------------+\n",
            "| Processes:                                                                  |\n",
            "|  GPU   GI   CI        PID   Type   Process name                  GPU Memory |\n",
            "|        ID   ID                                                   Usage      |\n",
            "|=============================================================================|\n",
            "|  No running processes found                                                 |\n",
            "+-----------------------------------------------------------------------------+\n"
          ],
          "name": "stdout"
        }
      ]
    },
    {
      "cell_type": "code",
      "metadata": {
        "colab": {
          "base_uri": "https://localhost:8080/"
        },
        "id": "qcHfZDBQ9008",
        "outputId": "80cbb0f4-7279-467d-9db3-000c8e5a1f1a"
      },
      "source": [
        "!pip uninstall -y tensorflow\n",
        "!pip install -q tf-nightly\n",
        "!pip install -qq tensorflow-model-optimization"
      ],
      "execution_count": 2,
      "outputs": [
        {
          "output_type": "stream",
          "text": [
            "Uninstalling tensorflow-2.4.1:\n",
            "  Successfully uninstalled tensorflow-2.4.1\n",
            "\u001b[K     |████████████████████████████████| 454.3MB 38kB/s \n",
            "\u001b[K     |████████████████████████████████| 1.2MB 48.0MB/s \n",
            "\u001b[K     |████████████████████████████████| 6.0MB 47.4MB/s \n",
            "\u001b[K     |████████████████████████████████| 4.0MB 42.9MB/s \n",
            "\u001b[K     |████████████████████████████████| 471kB 53.8MB/s \n",
            "\u001b[K     |████████████████████████████████| 4.0MB 51.4MB/s \n",
            "\u001b[K     |████████████████████████████████| 3.9MB 54.0MB/s \n",
            "\u001b[31mERROR: fancyimpute 0.4.3 requires tensorflow, which is not installed.\u001b[0m\n",
            "\u001b[K     |████████████████████████████████| 174kB 16.8MB/s \n",
            "\u001b[?25h"
          ],
          "name": "stdout"
        }
      ]
    },
    {
      "cell_type": "markdown",
      "metadata": {
        "id": "2cQmIwPm5-iq"
      },
      "source": [
        "## Data Gathering"
      ]
    },
    {
      "cell_type": "code",
      "metadata": {
        "colab": {
          "base_uri": "https://localhost:8080/"
        },
        "id": "lWCc30Da5-EZ",
        "outputId": "a66b5813-2d30-4c0e-c8e8-9b6edc7384ae"
      },
      "source": [
        "!wget https://storage.googleapis.com/laurencemoroney-blog.appspot.com/rps.zip \n",
        "!wget https://storage.googleapis.com/laurencemoroney-blog.appspot.com/rps-test-set.zip"
      ],
      "execution_count": 3,
      "outputs": [
        {
          "output_type": "stream",
          "text": [
            "--2021-03-29 12:12:14--  https://storage.googleapis.com/laurencemoroney-blog.appspot.com/rps.zip\n",
            "Resolving storage.googleapis.com (storage.googleapis.com)... 172.217.164.144, 142.250.73.240, 172.217.8.16, ...\n",
            "Connecting to storage.googleapis.com (storage.googleapis.com)|172.217.164.144|:443... connected.\n",
            "HTTP request sent, awaiting response... 200 OK\n",
            "Length: 200682221 (191M) [application/zip]\n",
            "Saving to: ‘rps.zip’\n",
            "\n",
            "rps.zip             100%[===================>] 191.38M   145MB/s    in 1.3s    \n",
            "\n",
            "2021-03-29 12:12:15 (145 MB/s) - ‘rps.zip’ saved [200682221/200682221]\n",
            "\n",
            "--2021-03-29 12:12:15--  https://storage.googleapis.com/laurencemoroney-blog.appspot.com/rps-test-set.zip\n",
            "Resolving storage.googleapis.com (storage.googleapis.com)... 172.253.122.128, 172.217.2.112, 142.250.31.128, ...\n",
            "Connecting to storage.googleapis.com (storage.googleapis.com)|172.253.122.128|:443... connected.\n",
            "HTTP request sent, awaiting response... 200 OK\n",
            "Length: 29516758 (28M) [application/zip]\n",
            "Saving to: ‘rps-test-set.zip’\n",
            "\n",
            "rps-test-set.zip    100%[===================>]  28.15M  --.-KB/s    in 0.1s    \n",
            "\n",
            "2021-03-29 12:12:15 (206 MB/s) - ‘rps-test-set.zip’ saved [29516758/29516758]\n",
            "\n"
          ],
          "name": "stdout"
        }
      ]
    },
    {
      "cell_type": "code",
      "metadata": {
        "id": "jR7V2APv7RY-"
      },
      "source": [
        "!unzip -q rps.zip\n",
        "!unzip -qq rps-test-set.zip"
      ],
      "execution_count": 4,
      "outputs": []
    },
    {
      "cell_type": "markdown",
      "metadata": {
        "id": "W-56s3T46KrP"
      },
      "source": [
        "## Import necessary modules"
      ]
    },
    {
      "cell_type": "code",
      "metadata": {
        "id": "H91gzQc-6QF_",
        "colab": {
          "base_uri": "https://localhost:8080/"
        },
        "outputId": "06d9a300-be15-402c-dbdb-11137e14f006"
      },
      "source": [
        "from imutils import paths\n",
        "from pprint import pprint\n",
        "from collections import Counter\n",
        "import tensorflow as tf\n",
        "from tensorflow.keras.models import Sequential\n",
        "from tensorflow.keras.layers import *\n",
        "from tensorflow.keras.utils import plot_model\n",
        "import tensorflow_model_optimization as tfmot\n",
        "import re \n",
        "\n",
        "import os\n",
        "from sys import getsizeof\n",
        "import pandas as pd\n",
        "import matplotlib.pyplot as plt\n",
        "import matplotlib.image as mpimg\n",
        "import seaborn as sns\n",
        "from sklearn.metrics import accuracy_score\n",
        "from sys import getsizeof\n",
        "\n",
        "import numpy as np\n",
        "np.random.seed(42)\n",
        "\n",
        "\n",
        "print(tf.__version__)"
      ],
      "execution_count": 5,
      "outputs": [
        {
          "output_type": "stream",
          "text": [
            "INFO:tensorflow:Enabling eager execution\n",
            "INFO:tensorflow:Enabling v2 tensorshape\n",
            "INFO:tensorflow:Enabling resource variables\n",
            "INFO:tensorflow:Enabling tensor equality\n",
            "INFO:tensorflow:Enabling control flow v2\n",
            "2.6.0-dev20210329\n"
          ],
          "name": "stdout"
        }
      ]
    },
    {
      "cell_type": "code",
      "metadata": {
        "id": "IPLJsYCxPukw"
      },
      "source": [
        "def get_file_size(file_path):\n",
        "    size = os.path.getsize(file_path)\n",
        "    return size\n",
        "\n",
        "def convert_bytes(size, unit=None):\n",
        "    if unit == \"KB\":\n",
        "        return print('File Size: ' + str(round(size/1024, 3)) + 'Kilobytes')\n",
        "    elif unit == 'MB':\n",
        "        return print('File Size: ' + str(round(size/(1024*1024), 3)) + 'Megabytes')\n",
        "    else:\n",
        "        return print('File Size: ' + str(size) + 'bytes')"
      ],
      "execution_count": 6,
      "outputs": []
    },
    {
      "cell_type": "markdown",
      "metadata": {
        "id": "z6m7IS8j7p1f"
      },
      "source": [
        "## Determine the dimension of the images"
      ]
    },
    {
      "cell_type": "code",
      "metadata": {
        "id": "Qs9sW74b7uxj"
      },
      "source": [
        "train_dir='rps/'\n",
        "test_dir='rps-test-set/'"
      ],
      "execution_count": 7,
      "outputs": []
    },
    {
      "cell_type": "code",
      "metadata": {
        "colab": {
          "base_uri": "https://localhost:8080/",
          "height": 529
        },
        "id": "UzTUR5OZ7i8o",
        "outputId": "43da78e5-f0e0-4416-f0d6-9ab538cee66d"
      },
      "source": [
        "dim1 = []\n",
        "dim2 = []\n",
        "for image_filename in os.listdir(train_dir+'paper'):\n",
        "    \n",
        "    img = mpimg.imread(train_dir+'paper'+'/'+image_filename)\n",
        "    d1,d2,colors = img.shape\n",
        "    dim1.append(d1)\n",
        "    dim2.append(d2)\n",
        "\n",
        "sns.jointplot(dim1,dim2)\n",
        "\n",
        "print(\"Height: \",np.mean(dim1))\n",
        "print(\"Width: \",np.mean(dim2))"
      ],
      "execution_count": 8,
      "outputs": [
        {
          "output_type": "stream",
          "text": [
            "/usr/local/lib/python3.7/dist-packages/seaborn/_decorators.py:43: FutureWarning: Pass the following variables as keyword args: x, y. From version 0.12, the only valid positional argument will be `data`, and passing other arguments without an explicit keyword will result in an error or misinterpretation.\n",
            "  FutureWarning\n"
          ],
          "name": "stderr"
        },
        {
          "output_type": "stream",
          "text": [
            "Height:  300.0\n",
            "Width:  300.0\n"
          ],
          "name": "stdout"
        },
        {
          "output_type": "display_data",
          "data": {
            "image/png": "[encoded data removed]",
            "text/plain": [
              "<Figure size 432x432 with 3 Axes>"
            ]
          },
          "metadata": {
            "tags": [],
            "needs_background": "light"
          }
        }
      ]
    },
    {
      "cell_type": "markdown",
      "metadata": {
        "id": "c5EOzdop8Fzo"
      },
      "source": [
        "`Height` is 300 and `Width` is 300"
      ]
    },
    {
      "cell_type": "code",
      "metadata": {
        "colab": {
          "base_uri": "https://localhost:8080/"
        },
        "id": "3RnaiNNH8CU6",
        "outputId": "64802ab8-1174-4dcc-d04a-b7bfdd9dd3f4"
      },
      "source": [
        "image_paths = list(paths.list_images(\"rps\"))\n",
        "np.random.shuffle(image_paths)\n",
        "image_paths[:5]"
      ],
      "execution_count": 9,
      "outputs": [
        {
          "output_type": "execute_result",
          "data": {
            "text/plain": [
              "['rps/rock/rock04-115.png',\n",
              " 'rps/scissors/scissors04-068.png',\n",
              " 'rps/scissors/scissors04-047.png',\n",
              " 'rps/rock/rock07-k03-044.png',\n",
              " 'rps/paper/paper07-117.png']"
            ]
          },
          "metadata": {
            "tags": []
          },
          "execution_count": 9
        }
      ]
    },
    {
      "cell_type": "markdown",
      "metadata": {
        "id": "CUSXaM_F8Y-y"
      },
      "source": [
        "## Couting the number of Images per classes"
      ]
    },
    {
      "cell_type": "code",
      "metadata": {
        "colab": {
          "base_uri": "https://localhost:8080/"
        },
        "id": "AOW02S1K8UPj",
        "outputId": "95c68313-3303-47d4-84cc-e3f690983d7b"
      },
      "source": [
        "labels = []\n",
        "for image_path in image_paths:\n",
        "    label = image_path.split(\"/\")[1]\n",
        "    labels.append(label)\n",
        "class_count = Counter(labels) \n",
        "pprint(class_count)"
      ],
      "execution_count": 10,
      "outputs": [
        {
          "output_type": "stream",
          "text": [
            "Counter({'rock': 840, 'scissors': 840, 'paper': 840})\n"
          ],
          "name": "stdout"
        }
      ]
    },
    {
      "cell_type": "markdown",
      "metadata": {
        "id": "SrrFJ-x58cpq"
      },
      "source": [
        "Wow! Balanced Dataset"
      ]
    },
    {
      "cell_type": "markdown",
      "metadata": {
        "id": "qPlOPCsM8obx"
      },
      "source": [
        "## Define the Hyperparameters"
      ]
    },
    {
      "cell_type": "code",
      "metadata": {
        "id": "MDw1ldXT8baT"
      },
      "source": [
        "BATCH_SIZE = 128\n",
        "EPOCHS = 20\n",
        "IMG_SIZE = 150\n",
        "NUM_CLASSES=3"
      ],
      "execution_count": 11,
      "outputs": []
    },
    {
      "cell_type": "code",
      "metadata": {
        "colab": {
          "base_uri": "https://localhost:8080/"
        },
        "id": "6GJEbFhGMBHv",
        "outputId": "3d1a9459-37b0-4d66-fd08-aaa5f84c8a90"
      },
      "source": [
        "training_datagen = tf.keras.preprocessing.image.ImageDataGenerator(\n",
        "      rescale = 1./255,\n",
        "\t    rotation_range=40,\n",
        "      width_shift_range=0.2,\n",
        "      height_shift_range=0.2,\n",
        "      shear_range=0.2,\n",
        "      zoom_range=0.2,\n",
        "      horizontal_flip=True,\n",
        "      vertical_flip=True,\n",
        "      fill_mode='nearest')\n",
        "\n",
        "\n",
        "validation_datagen = tf.keras.preprocessing.image.ImageDataGenerator(rescale = 1./255)\n",
        "\n",
        "train_generator = training_datagen.flow_from_directory(\n",
        "\ttrain_dir,\n",
        "\ttarget_size=(IMG_SIZE,IMG_SIZE),\n",
        "\tclass_mode='categorical',\n",
        "    batch_size=BATCH_SIZE\n",
        ")\n",
        "\n",
        "validation_generator = validation_datagen.flow_from_directory(\n",
        "\ttest_dir,\n",
        "\ttarget_size=(IMG_SIZE,IMG_SIZE),\n",
        "\tclass_mode='categorical',\n",
        "    batch_size=BATCH_SIZE\n",
        ")"
      ],
      "execution_count": 12,
      "outputs": [
        {
          "output_type": "stream",
          "text": [
            "Found 2520 images belonging to 3 classes.\n",
            "Found 372 images belonging to 3 classes.\n"
          ],
          "name": "stdout"
        }
      ]
    },
    {
      "cell_type": "code",
      "metadata": {
        "colab": {
          "base_uri": "https://localhost:8080/"
        },
        "id": "vAo0InP-Phot",
        "outputId": "4a52201b-415c-4144-bd1f-35b7efb08834"
      },
      "source": [
        "train_generator.class_indices"
      ],
      "execution_count": 13,
      "outputs": [
        {
          "output_type": "execute_result",
          "data": {
            "text/plain": [
              "{'paper': 0, 'rock': 1, 'scissors': 2}"
            ]
          },
          "metadata": {
            "tags": []
          },
          "execution_count": 13
        }
      ]
    },
    {
      "cell_type": "markdown",
      "metadata": {
        "id": "VJsgdjo_CVbi"
      },
      "source": [
        "## Define the Model"
      ]
    },
    {
      "cell_type": "code",
      "metadata": {
        "id": "KbduXXbg_WbL"
      },
      "source": [
        "def training_model():\n",
        "    model = Sequential([\n",
        "        tf.keras.layers.Conv2D(64, (3,3), activation='relu', input_shape=(150, 150, 3)),\n",
        "        tf.keras.layers.MaxPooling2D(2, 2),\n",
        "        # The second convolution\n",
        "        tf.keras.layers.Conv2D(64, (3,3), activation='relu'),\n",
        "        tf.keras.layers.MaxPooling2D(2,2),\n",
        "        # The third convolution\n",
        "        tf.keras.layers.Conv2D(128, (3,3), activation='relu'),\n",
        "        tf.keras.layers.MaxPooling2D(2,2),\n",
        "        # The fourth convolution\n",
        "        tf.keras.layers.Conv2D(128, (3,3), activation='relu'),\n",
        "        tf.keras.layers.MaxPooling2D(2,2),\n",
        "        # Flatten the results to feed into a DNN\n",
        "        tf.keras.layers.Flatten(),\n",
        "        tf.keras.layers.Dropout(0.5),\n",
        "        # 512 neuron hidden layer\n",
        "        tf.keras.layers.Dense(512, activation='relu'),\n",
        "        tf.keras.layers.Dense(NUM_CLASSES, activation='softmax')                       \n",
        "    ])\n",
        "    return model"
      ],
      "execution_count": 14,
      "outputs": []
    },
    {
      "cell_type": "markdown",
      "metadata": {
        "id": "yuo9je7lCrJ_"
      },
      "source": [
        "## Summary of the Model"
      ]
    },
    {
      "cell_type": "code",
      "metadata": {
        "colab": {
          "base_uri": "https://localhost:8080/"
        },
        "id": "WddTQKKGCc_n",
        "outputId": "d7f099e2-eb97-447a-f5d4-1db49acc8775"
      },
      "source": [
        "model = training_model()\n",
        "model.summary()"
      ],
      "execution_count": 15,
      "outputs": [
        {
          "output_type": "stream",
          "text": [
            "Model: \"sequential\"\n",
            "_________________________________________________________________\n",
            "Layer (type)                 Output Shape              Param #   \n",
            "=================================================================\n",
            "conv2d (Conv2D)              (None, 148, 148, 64)      1792      \n",
            "_________________________________________________________________\n",
            "max_pooling2d (MaxPooling2D) (None, 74, 74, 64)        0         \n",
            "_________________________________________________________________\n",
            "conv2d_1 (Conv2D)            (None, 72, 72, 64)        36928     \n",
            "_________________________________________________________________\n",
            "max_pooling2d_1 (MaxPooling2 (None, 36, 36, 64)        0         \n",
            "_________________________________________________________________\n",
            "conv2d_2 (Conv2D)            (None, 34, 34, 128)       73856     \n",
            "_________________________________________________________________\n",
            "max_pooling2d_2 (MaxPooling2 (None, 17, 17, 128)       0         \n",
            "_________________________________________________________________\n",
            "conv2d_3 (Conv2D)            (None, 15, 15, 128)       147584    \n",
            "_________________________________________________________________\n",
            "max_pooling2d_3 (MaxPooling2 (None, 7, 7, 128)         0         \n",
            "_________________________________________________________________\n",
            "flatten (Flatten)            (None, 6272)              0         \n",
            "_________________________________________________________________\n",
            "dropout (Dropout)            (None, 6272)              0         \n",
            "_________________________________________________________________\n",
            "dense (Dense)                (None, 512)               3211776   \n",
            "_________________________________________________________________\n",
            "dense_1 (Dense)              (None, 3)                 1539      \n",
            "=================================================================\n",
            "Total params: 3,473,475\n",
            "Trainable params: 3,473,475\n",
            "Non-trainable params: 0\n",
            "_________________________________________________________________\n"
          ],
          "name": "stdout"
        }
      ]
    },
    {
      "cell_type": "markdown",
      "metadata": {
        "id": "ZjP44DVHC1y3"
      },
      "source": [
        "## Compile and Train the Baseline Model"
      ]
    },
    {
      "cell_type": "code",
      "metadata": {
        "colab": {
          "base_uri": "https://localhost:8080/"
        },
        "id": "S1CJjfzfCvQG",
        "outputId": "472567c7-5c5a-4e6e-dfe6-882459f6c762"
      },
      "source": [
        "#Compile the Model\n",
        "model.compile(loss = 'categorical_crossentropy', optimizer='rmsprop', metrics=['accuracy'])\n",
        "\n",
        "#Train the Model\n",
        "history = model.fit(train_generator, epochs=EPOCHS, steps_per_epoch=20, validation_data = validation_generator, validation_steps=3, batch_size=BATCH_SIZE)"
      ],
      "execution_count": 16,
      "outputs": [
        {
          "output_type": "stream",
          "text": [
            "Epoch 1/20\n",
            "20/20 [==============================] - 153s 8s/step - loss: 1.6691 - accuracy: 0.3288 - val_loss: 1.0963 - val_accuracy: 0.3333\n",
            "Epoch 2/20\n",
            "20/20 [==============================] - 150s 7s/step - loss: 1.1090 - accuracy: 0.3786 - val_loss: 1.0841 - val_accuracy: 0.3925\n",
            "Epoch 3/20\n",
            "20/20 [==============================] - 151s 8s/step - loss: 1.0853 - accuracy: 0.3995 - val_loss: 1.0907 - val_accuracy: 0.3360\n",
            "Epoch 4/20\n",
            "20/20 [==============================] - 153s 8s/step - loss: 1.0781 - accuracy: 0.4319 - val_loss: 1.0076 - val_accuracy: 0.4919\n",
            "Epoch 5/20\n",
            "20/20 [==============================] - 152s 8s/step - loss: 1.0135 - accuracy: 0.4760 - val_loss: 0.9914 - val_accuracy: 0.6855\n",
            "Epoch 6/20\n",
            "20/20 [==============================] - 152s 8s/step - loss: 0.9675 - accuracy: 0.5599 - val_loss: 0.7068 - val_accuracy: 0.7527\n",
            "Epoch 7/20\n",
            "20/20 [==============================] - 153s 8s/step - loss: 0.8461 - accuracy: 0.5912 - val_loss: 0.6123 - val_accuracy: 0.7231\n",
            "Epoch 8/20\n",
            "20/20 [==============================] - 152s 8s/step - loss: 0.8882 - accuracy: 0.5715 - val_loss: 0.6119 - val_accuracy: 0.7742\n",
            "Epoch 9/20\n",
            "20/20 [==============================] - 152s 8s/step - loss: 0.6629 - accuracy: 0.7259 - val_loss: 0.3910 - val_accuracy: 0.8333\n",
            "Epoch 10/20\n",
            "20/20 [==============================] - 151s 8s/step - loss: 0.6706 - accuracy: 0.6997 - val_loss: 0.3811 - val_accuracy: 0.8952\n",
            "Epoch 11/20\n",
            "20/20 [==============================] - 152s 8s/step - loss: 0.6148 - accuracy: 0.7508 - val_loss: 0.6685 - val_accuracy: 0.5887\n",
            "Epoch 12/20\n",
            "20/20 [==============================] - 151s 8s/step - loss: 0.5901 - accuracy: 0.7504 - val_loss: 0.2708 - val_accuracy: 0.9382\n",
            "Epoch 13/20\n",
            "20/20 [==============================] - 151s 8s/step - loss: 0.4371 - accuracy: 0.8319 - val_loss: 0.3410 - val_accuracy: 0.7796\n",
            "Epoch 14/20\n",
            "20/20 [==============================] - 150s 7s/step - loss: 0.4914 - accuracy: 0.7939 - val_loss: 0.3374 - val_accuracy: 0.8790\n",
            "Epoch 15/20\n",
            "20/20 [==============================] - 152s 8s/step - loss: 0.3918 - accuracy: 0.8519 - val_loss: 0.4638 - val_accuracy: 0.7097\n",
            "Epoch 16/20\n",
            "20/20 [==============================] - 153s 8s/step - loss: 0.4647 - accuracy: 0.8049 - val_loss: 0.3544 - val_accuracy: 0.8387\n",
            "Epoch 17/20\n",
            "20/20 [==============================] - 153s 8s/step - loss: 0.3336 - accuracy: 0.8631 - val_loss: 0.3203 - val_accuracy: 0.8333\n",
            "Epoch 18/20\n",
            "20/20 [==============================] - 158s 8s/step - loss: 0.2608 - accuracy: 0.9066 - val_loss: 0.3127 - val_accuracy: 0.8763\n",
            "Epoch 19/20\n",
            "20/20 [==============================] - 152s 8s/step - loss: 0.3312 - accuracy: 0.8861 - val_loss: 0.1272 - val_accuracy: 0.9704\n",
            "Epoch 20/20\n",
            "20/20 [==============================] - 152s 8s/step - loss: 0.2326 - accuracy: 0.9215 - val_loss: 0.3334 - val_accuracy: 0.8575\n"
          ],
          "name": "stdout"
        }
      ]
    },
    {
      "cell_type": "markdown",
      "metadata": {
        "id": "GN14Ym8zW2fw"
      },
      "source": [
        "## Evaluate our Baseline Model"
      ]
    },
    {
      "cell_type": "code",
      "metadata": {
        "colab": {
          "base_uri": "https://localhost:8080/"
        },
        "id": "bMK5SRHSPezP",
        "outputId": "36ce64b5-8463-4c0b-9d4f-85e1b5e299a1"
      },
      "source": [
        "test_loss, test_acc = model.evaluate(validation_generator, verbose=1)\n",
        "print('Test Accuracy:', test_acc)\n",
        "print('Test Loss:', test_loss)"
      ],
      "execution_count": 17,
      "outputs": [
        {
          "output_type": "stream",
          "text": [
            "3/3 [==============================] - 6s 2s/step - loss: 0.3334 - accuracy: 0.8575\n",
            "Test Accuracy: 0.8575268983840942\n",
            "Test Loss: 0.3334425091743469\n"
          ],
          "name": "stdout"
        }
      ]
    },
    {
      "cell_type": "markdown",
      "metadata": {
        "id": "FC6bAfYCW6pS"
      },
      "source": [
        "## Plot the Acc and Loss Curve"
      ]
    },
    {
      "cell_type": "code",
      "metadata": {
        "id": "8hr9p57tDZJd",
        "colab": {
          "base_uri": "https://localhost:8080/",
          "height": 573
        },
        "outputId": "ed9dd7c0-0f11-4efc-d792-4d4b93afa4cc"
      },
      "source": [
        "plt.plot(history.history['accuracy'])\n",
        "plt.plot(history.history['val_accuracy'])\n",
        "plt.legend(['train', 'test'], loc='lower right')\n",
        "plt.title('accuracy plot - train vs test')\n",
        "plt.xlabel('epoch')\n",
        "plt.ylabel('accuracy')\n",
        "\n",
        "plt.show()\n",
        "\n",
        "plt.plot(history.history['loss'])\n",
        "plt.plot(history.history['val_loss'])\n",
        "plt.legend(['training loss', 'validation loss'], loc = 'upper right')\n",
        "plt.title('loss plot - training vs validation')\n",
        "plt.xlabel('epoch')\n",
        "plt.ylabel('loss')\n",
        "\n",
        "plt.show()"
      ],
      "execution_count": 18,
      "outputs": [
        {
          "output_type": "display_data",
          "data": {
            "image/png": "[encoded data removed]",
            "text/plain": [
              "<Figure size 432x288 with 1 Axes>"
            ]
          },
          "metadata": {
            "tags": [],
            "needs_background": "light"
          }
        },
        {
          "output_type": "display_data",
          "data": {
            "image/png": "[encoded data removed]",
            "text/plain": [
              "<Figure size 432x288 with 1 Axes>"
            ]
          },
          "metadata": {
            "tags": [],
            "needs_background": "light"
          }
        }
      ]
    },
    {
      "cell_type": "markdown",
      "metadata": {
        "id": "-HyvAMbVXG8L"
      },
      "source": [
        "## Saving our Baseline Model"
      ]
    },
    {
      "cell_type": "code",
      "metadata": {
        "colab": {
          "base_uri": "https://localhost:8080/"
        },
        "id": "FAaYyrzlQbLJ",
        "outputId": "9ac2f8f2-1de2-449d-d380-5e86e2bd6d89"
      },
      "source": [
        "model.save('rps_model')\n",
        "model.save('rps.h5')"
      ],
      "execution_count": 19,
      "outputs": [
        {
          "output_type": "stream",
          "text": [
            "INFO:tensorflow:Assets written to: rps_model/assets\n"
          ],
          "name": "stdout"
        }
      ]
    },
    {
      "cell_type": "code",
      "metadata": {
        "colab": {
          "base_uri": "https://localhost:8080/"
        },
        "id": "2fOWErhkQ-kO",
        "outputId": "8d17ea6c-523f-44d1-9f0e-cc94baa8ebde"
      },
      "source": [
        "!du -lh rps_model"
      ],
      "execution_count": 20,
      "outputs": [
        {
          "output_type": "stream",
          "text": [
            "27M\trps_model/variables\n",
            "4.0K\trps_model/assets\n",
            "27M\trps_model\n"
          ],
          "name": "stdout"
        }
      ]
    },
    {
      "cell_type": "code",
      "metadata": {
        "colab": {
          "base_uri": "https://localhost:8080/"
        },
        "id": "yjdkDugfRMuc",
        "outputId": "3a69a5ce-6edd-4965-df40-0b62716d9aea"
      },
      "source": [
        "convert_bytes(get_file_size('rps.h5'), \"MB\")"
      ],
      "execution_count": 21,
      "outputs": [
        {
          "output_type": "stream",
          "text": [
            "File Size: 26.557Megabytes\n"
          ],
          "name": "stdout"
        }
      ]
    },
    {
      "cell_type": "code",
      "metadata": {
        "colab": {
          "base_uri": "https://localhost:8080/"
        },
        "id": "oxZPUH3wRAI-",
        "outputId": "4a1c8296-57d3-47fa-a465-7b504462e123"
      },
      "source": [
        "!tar cvf rps.tar.gz rps_model rps.h5"
      ],
      "execution_count": 22,
      "outputs": [
        {
          "output_type": "stream",
          "text": [
            "rps_model/\n",
            "rps_model/keras_metadata.pb\n",
            "rps_model/saved_model.pb\n",
            "rps_model/variables/\n",
            "rps_model/variables/variables.index\n",
            "rps_model/variables/variables.data-00000-of-00001\n",
            "rps_model/assets/\n",
            "rps.h5\n"
          ],
          "name": "stdout"
        }
      ]
    },
    {
      "cell_type": "markdown",
      "metadata": {
        "id": "xQDBdfKRXK2p"
      },
      "source": [
        "## Quantising our Model"
      ]
    },
    {
      "cell_type": "code",
      "metadata": {
        "colab": {
          "base_uri": "https://localhost:8080/"
        },
        "id": "WRh4RUo7XQ5O",
        "outputId": "24430a6d-e433-4e9a-8363-e460b972595c"
      },
      "source": [
        "quantize_model = tfmot.quantization.keras.quantize_model\n",
        "\n",
        "# q_aware stands for for quantization aware.\n",
        "q_aware_model = quantize_model(model)\n",
        "\n",
        "# `quantize_model` requires a recompile.\n",
        "q_aware_model.compile(optimizer='rmsprop',\n",
        "              loss='categorical_crossentropy',\n",
        "              metrics=['accuracy'])\n",
        "\n",
        "q_aware_model.summary()"
      ],
      "execution_count": 23,
      "outputs": [
        {
          "output_type": "stream",
          "text": [
            "Model: \"sequential\"\n",
            "_________________________________________________________________\n",
            "Layer (type)                 Output Shape              Param #   \n",
            "=================================================================\n",
            "quantize_layer (QuantizeLaye (None, 150, 150, 3)       3         \n",
            "_________________________________________________________________\n",
            "quant_conv2d (QuantizeWrappe (None, 148, 148, 64)      1923      \n",
            "_________________________________________________________________\n",
            "quant_max_pooling2d (Quantiz (None, 74, 74, 64)        1         \n",
            "_________________________________________________________________\n",
            "quant_conv2d_1 (QuantizeWrap (None, 72, 72, 64)        37059     \n",
            "_________________________________________________________________\n",
            "quant_max_pooling2d_1 (Quant (None, 36, 36, 64)        1         \n",
            "_________________________________________________________________\n",
            "quant_conv2d_2 (QuantizeWrap (None, 34, 34, 128)       74115     \n",
            "_________________________________________________________________\n",
            "quant_max_pooling2d_2 (Quant (None, 17, 17, 128)       1         \n",
            "_________________________________________________________________\n",
            "quant_conv2d_3 (QuantizeWrap (None, 15, 15, 128)       147843    \n",
            "_________________________________________________________________\n",
            "quant_max_pooling2d_3 (Quant (None, 7, 7, 128)         1         \n",
            "_________________________________________________________________\n",
            "quant_flatten (QuantizeWrapp (None, 6272)              1         \n",
            "_________________________________________________________________\n",
            "quant_dropout (QuantizeWrapp (None, 6272)              1         \n",
            "_________________________________________________________________\n",
            "quant_dense (QuantizeWrapper (None, 512)               3211781   \n",
            "_________________________________________________________________\n",
            "quant_dense_1 (QuantizeWrapp (None, 3)                 1544      \n",
            "=================================================================\n",
            "Total params: 3,474,274\n",
            "Trainable params: 3,473,475\n",
            "Non-trainable params: 799\n",
            "_________________________________________________________________\n"
          ],
          "name": "stdout"
        }
      ]
    },
    {
      "cell_type": "markdown",
      "metadata": {
        "id": "SJ79lNsPXO0E"
      },
      "source": [
        "## Train the Quantise Model"
      ]
    },
    {
      "cell_type": "code",
      "metadata": {
        "colab": {
          "base_uri": "https://localhost:8080/"
        },
        "id": "mtowFk9IXp_F",
        "outputId": "954becbc-176b-46d9-bd77-f23099a2d62e"
      },
      "source": [
        "q_aware_model.fit(train_generator, epochs=20, validation_data = validation_generator, batch_size=256)"
      ],
      "execution_count": 24,
      "outputs": [
        {
          "output_type": "stream",
          "text": [
            "Epoch 1/20\n",
            "20/20 [==============================] - 177s 9s/step - loss: 0.9902 - accuracy: 0.7936 - val_loss: 0.1707 - val_accuracy: 0.8978\n",
            "Epoch 2/20\n",
            "20/20 [==============================] - 177s 9s/step - loss: 0.4041 - accuracy: 0.8493 - val_loss: 0.1008 - val_accuracy: 0.9704\n",
            "Epoch 3/20\n",
            "20/20 [==============================] - 175s 9s/step - loss: 0.2003 - accuracy: 0.9246 - val_loss: 0.2222 - val_accuracy: 0.8978\n",
            "Epoch 4/20\n",
            "20/20 [==============================] - 173s 9s/step - loss: 0.1648 - accuracy: 0.9408 - val_loss: 0.4998 - val_accuracy: 0.7581\n",
            "Epoch 5/20\n",
            "20/20 [==============================] - 171s 9s/step - loss: 0.3253 - accuracy: 0.8878 - val_loss: 0.0466 - val_accuracy: 0.9812\n",
            "Epoch 6/20\n",
            "20/20 [==============================] - 173s 9s/step - loss: 0.1835 - accuracy: 0.9324 - val_loss: 0.0570 - val_accuracy: 0.9758\n",
            "Epoch 7/20\n",
            "20/20 [==============================] - 172s 9s/step - loss: 0.1908 - accuracy: 0.9304 - val_loss: 0.2010 - val_accuracy: 0.9140\n",
            "Epoch 8/20\n",
            "20/20 [==============================] - 172s 9s/step - loss: 0.2084 - accuracy: 0.9306 - val_loss: 0.0991 - val_accuracy: 0.9731\n",
            "Epoch 9/20\n",
            "20/20 [==============================] - 172s 9s/step - loss: 0.1430 - accuracy: 0.9511 - val_loss: 0.1567 - val_accuracy: 0.9516\n",
            "Epoch 10/20\n",
            "20/20 [==============================] - 172s 9s/step - loss: 0.1159 - accuracy: 0.9577 - val_loss: 0.0688 - val_accuracy: 0.9704\n",
            "Epoch 11/20\n",
            "20/20 [==============================] - 172s 9s/step - loss: 0.1244 - accuracy: 0.9578 - val_loss: 0.0868 - val_accuracy: 0.9704\n",
            "Epoch 12/20\n",
            "20/20 [==============================] - 171s 9s/step - loss: 0.1370 - accuracy: 0.9478 - val_loss: 0.0866 - val_accuracy: 0.9704\n",
            "Epoch 13/20\n",
            "20/20 [==============================] - 172s 9s/step - loss: 0.0979 - accuracy: 0.9677 - val_loss: 0.2620 - val_accuracy: 0.9167\n",
            "Epoch 14/20\n",
            "20/20 [==============================] - 177s 9s/step - loss: 0.1594 - accuracy: 0.9446 - val_loss: 0.2123 - val_accuracy: 0.9167\n",
            "Epoch 15/20\n",
            "20/20 [==============================] - 178s 9s/step - loss: 0.1143 - accuracy: 0.9640 - val_loss: 0.0628 - val_accuracy: 0.9731\n",
            "Epoch 16/20\n",
            "20/20 [==============================] - 179s 9s/step - loss: 0.1030 - accuracy: 0.9627 - val_loss: 0.0811 - val_accuracy: 0.9731\n",
            "Epoch 17/20\n",
            "20/20 [==============================] - 179s 9s/step - loss: 0.1237 - accuracy: 0.9561 - val_loss: 0.1925 - val_accuracy: 0.9355\n",
            "Epoch 18/20\n",
            "20/20 [==============================] - 180s 9s/step - loss: 0.1547 - accuracy: 0.9478 - val_loss: 0.0321 - val_accuracy: 1.0000\n",
            "Epoch 19/20\n",
            "20/20 [==============================] - 180s 9s/step - loss: 0.0786 - accuracy: 0.9691 - val_loss: 0.0523 - val_accuracy: 0.9785\n",
            "Epoch 20/20\n",
            "20/20 [==============================] - 180s 9s/step - loss: 0.1128 - accuracy: 0.9650 - val_loss: 0.0561 - val_accuracy: 0.9785\n"
          ],
          "name": "stdout"
        },
        {
          "output_type": "execute_result",
          "data": {
            "text/plain": [
              "<tensorflow.python.keras.callbacks.History at 0x7fe82de83950>"
            ]
          },
          "metadata": {
            "tags": []
          },
          "execution_count": 24
        }
      ]
    },
    {
      "cell_type": "markdown",
      "metadata": {
        "id": "GtanDpIkXSWI"
      },
      "source": [
        "## Evaluate the Quantise Model"
      ]
    },
    {
      "cell_type": "code",
      "metadata": {
        "colab": {
          "base_uri": "https://localhost:8080/"
        },
        "id": "FuwyMi1vYtWU",
        "outputId": "fa9710fb-cf01-45e9-ccfa-7956cef2ebbf"
      },
      "source": [
        "q_aware_model_loss, q_aware_model_accuracy = q_aware_model.evaluate(validation_generator, verbose=1)\n",
        "print('Quant Test Accuracy:', q_aware_model_accuracy)\n",
        "print('Quant Test Loss:', q_aware_model_loss)"
      ],
      "execution_count": 25,
      "outputs": [
        {
          "output_type": "stream",
          "text": [
            "3/3 [==============================] - 7s 2s/step - loss: 0.0561 - accuracy: 0.9785\n",
            "Quant Test Accuracy: 0.9784946441650391\n",
            "Quant Test Loss: 0.05613008141517639\n"
          ],
          "name": "stdout"
        }
      ]
    },
    {
      "cell_type": "markdown",
      "metadata": {
        "id": "rZawE0lfXvMM"
      },
      "source": [
        "## Convert the Baseline Model to TF-Lite"
      ]
    },
    {
      "cell_type": "code",
      "metadata": {
        "colab": {
          "base_uri": "https://localhost:8080/"
        },
        "id": "vaI-0o4lY4p3",
        "outputId": "f8432d18-4597-49b1-e878-fcd1baa7aecf"
      },
      "source": [
        "TF_LITE_MODEL_FILE_NAME = 'tf_lite_model_rps.tflite'\n",
        "\n",
        "tf_lite_converter = tf.lite.TFLiteConverter.from_keras_model(model)\n",
        "tflite_model = tf_lite_converter.convert()\n",
        "\n",
        "tflite_model_name = TF_LITE_MODEL_FILE_NAME\n",
        "open(tflite_model_name, \"wb\").write(tflite_model)"
      ],
      "execution_count": 27,
      "outputs": [
        {
          "output_type": "stream",
          "text": [
            "INFO:tensorflow:Assets written to: /tmp/tmpagum708k/assets\n"
          ],
          "name": "stdout"
        },
        {
          "output_type": "stream",
          "text": [
            "INFO:tensorflow:Assets written to: /tmp/tmpagum708k/assets\n"
          ],
          "name": "stderr"
        },
        {
          "output_type": "execute_result",
          "data": {
            "text/plain": [
              "13898360"
            ]
          },
          "metadata": {
            "tags": []
          },
          "execution_count": 27
        }
      ]
    },
    {
      "cell_type": "markdown",
      "metadata": {
        "id": "CHKjs1KOX5Py"
      },
      "source": [
        "## Convert the Quantise Model to TF-Lite"
      ]
    },
    {
      "cell_type": "code",
      "metadata": {
        "colab": {
          "base_uri": "https://localhost:8080/"
        },
        "id": "dWWY9Mqtvtfw",
        "outputId": "f10ecf81-11c8-4c26-9eab-36c097e81063"
      },
      "source": [
        "TF_LITE_QUANT_MODEL_FILE_NAME = 'tf_lite_quant_model_rps.tflite'\n",
        "\n",
        "tf_lite_converter = tf.lite.TFLiteConverter.from_keras_model(q_aware_model)\n",
        "tf_lite_converter.optimizations = [tf.lite.Optimize.DEFAULT]\n",
        "tflite_model = tf_lite_converter.convert()\n",
        "\n",
        "tflite_model_name = TF_LITE_QUANT_MODEL_FILE_NAME\n",
        "open(tflite_model_name, \"wb\").write(tflite_model)"
      ],
      "execution_count": 39,
      "outputs": [
        {
          "output_type": "stream",
          "text": [
            "WARNING:absl:Found untraced functions such as conv2d_layer_call_and_return_conditional_losses, conv2d_layer_call_fn, conv2d_1_layer_call_and_return_conditional_losses, conv2d_1_layer_call_fn, conv2d_2_layer_call_and_return_conditional_losses while saving (showing 5 of 40). These functions will not be directly callable after loading.\n"
          ],
          "name": "stderr"
        },
        {
          "output_type": "stream",
          "text": [
            "INFO:tensorflow:Assets written to: /tmp/tmpi7qy6wk8/assets\n"
          ],
          "name": "stdout"
        },
        {
          "output_type": "stream",
          "text": [
            "INFO:tensorflow:Assets written to: /tmp/tmpi7qy6wk8/assets\n"
          ],
          "name": "stderr"
        },
        {
          "output_type": "execute_result",
          "data": {
            "text/plain": [
              "3491848"
            ]
          },
          "metadata": {
            "tags": []
          },
          "execution_count": 39
        }
      ]
    },
    {
      "cell_type": "markdown",
      "metadata": {
        "id": "0FY2g-T0X7X7"
      },
      "source": [
        "## Calculating the file size"
      ]
    },
    {
      "cell_type": "code",
      "metadata": {
        "colab": {
          "base_uri": "https://localhost:8080/"
        },
        "id": "tUvid56XwA0j",
        "outputId": "9478adb4-3d52-4e10-a7f3-7bf69cdf382d"
      },
      "source": [
        "convert_bytes(get_file_size('tf_lite_model_rps.tflite'), \"MB\")\n",
        "convert_bytes(get_file_size('tf_lite_quant_model_rps.tflite'), \"MB\")"
      ],
      "execution_count": 29,
      "outputs": [
        {
          "output_type": "stream",
          "text": [
            "File Size: 13.255Megabytes\n",
            "File Size: 3.33Megabytes\n"
          ],
          "name": "stdout"
        }
      ]
    },
    {
      "cell_type": "code",
      "metadata": {
        "id": "afGOdqf9UTvZ"
      },
      "source": [
        "images, labels = (next(iter(validation_generator)))"
      ],
      "execution_count": 32,
      "outputs": []
    },
    {
      "cell_type": "code",
      "metadata": {
        "colab": {
          "base_uri": "https://localhost:8080/"
        },
        "id": "nycRGIg6UdIT",
        "outputId": "633cfd45-e9c9-4ac6-9a51-5eeb44e28bd5"
      },
      "source": [
        "print(images.shape)\n",
        "print(images.dtype)"
      ],
      "execution_count": 33,
      "outputs": [
        {
          "output_type": "stream",
          "text": [
            "(128, 150, 150, 3)\n",
            "float32\n"
          ],
          "name": "stdout"
        }
      ]
    },
    {
      "cell_type": "markdown",
      "metadata": {
        "id": "F1St2NuzYBC0"
      },
      "source": [
        "## Check the Tensors Shape - Baseline Model"
      ]
    },
    {
      "cell_type": "code",
      "metadata": {
        "colab": {
          "base_uri": "https://localhost:8080/"
        },
        "id": "nA498GSBWK6U",
        "outputId": "aa828331-6e4f-438b-805e-8e22625026d1"
      },
      "source": [
        "interpreter = tf.lite.Interpreter(model_path = TF_LITE_MODEL_FILE_NAME)\n",
        "input_details = interpreter.get_input_details()\n",
        "output_details = interpreter.get_output_details()\n",
        "\n",
        "print(\"Input Shape:\", input_details[0]['shape'])\n",
        "print(\"Input Type:\", input_details[0]['dtype'])\n",
        "print(\"Output Shape:\", output_details[0]['shape'])\n",
        "print(\"Output Type:\", output_details[0]['dtype'])"
      ],
      "execution_count": 36,
      "outputs": [
        {
          "output_type": "stream",
          "text": [
            "Input Shape: [  1 150 150   3]\n",
            "Input Type: <class 'numpy.float32'>\n",
            "Output Shape: [1 3]\n",
            "Output Type: <class 'numpy.float32'>\n"
          ],
          "name": "stdout"
        }
      ]
    },
    {
      "cell_type": "markdown",
      "metadata": {
        "id": "U7paq-MjYUgY"
      },
      "source": [
        "## Resize the Tensor Shape - Baseline Model"
      ]
    },
    {
      "cell_type": "code",
      "metadata": {
        "colab": {
          "base_uri": "https://localhost:8080/"
        },
        "id": "3iC0oisvWa8J",
        "outputId": "dcedd070-f620-44f9-ec25-84aa3d1cd762"
      },
      "source": [
        "interpreter.resize_tensor_input(input_details[0]['index'], (128, 150, 150, 3))\n",
        "interpreter.resize_tensor_input(output_details[0]['index'], (128, 3))\n",
        "interpreter.allocate_tensors()\n",
        "\n",
        "input_details = interpreter.get_input_details()\n",
        "output_details = interpreter.get_output_details()\n",
        "\n",
        "print(\"Input Shape:\", input_details[0]['shape'])\n",
        "print(\"Input Type:\", input_details[0]['dtype'])\n",
        "print(\"Output Shape:\", output_details[0]['shape'])\n",
        "print(\"Output Type:\", output_details[0]['dtype'])"
      ],
      "execution_count": 37,
      "outputs": [
        {
          "output_type": "stream",
          "text": [
            "Input Shape: [128 150 150   3]\n",
            "Input Type: <class 'numpy.float32'>\n",
            "Output Shape: [128   3]\n",
            "Output Type: <class 'numpy.float32'>\n"
          ],
          "name": "stdout"
        }
      ]
    },
    {
      "cell_type": "markdown",
      "metadata": {
        "id": "0SH-N7njYzqw"
      },
      "source": [
        "## Making Predictions on Baseline TF-Lite Model"
      ]
    },
    {
      "cell_type": "code",
      "metadata": {
        "colab": {
          "base_uri": "https://localhost:8080/"
        },
        "id": "9I3ugQJXWgsm",
        "outputId": "8681f22c-7e6d-47ea-d270-9c44dc640ad2"
      },
      "source": [
        "interpreter.set_tensor(input_details[0]['index'], images)\n",
        "interpreter.invoke()\n",
        "\n",
        "tflite_model_predictions = interpreter.get_tensor(output_details[0]['index'])\n",
        "\n",
        "print(\"Prediction results shape:\", tflite_model_predictions.shape)\n",
        "prediction_classes = np.argmax(tflite_model_predictions, axis=1)\n",
        "expected_classes = np.argmax(labels, axis=1)\n",
        "\n",
        "acc = accuracy_score(prediction_classes, expected_classes)\n",
        "print('Test accuracy TFLITE model :', acc)"
      ],
      "execution_count": 38,
      "outputs": [
        {
          "output_type": "stream",
          "text": [
            "Prediction results shape: (128, 3)\n",
            "Test accuracy TFLITE model : 0.8125\n"
          ],
          "name": "stdout"
        }
      ]
    },
    {
      "cell_type": "markdown",
      "metadata": {
        "id": "fD4MZ-pfYMmf"
      },
      "source": [
        "## Check the Tensors Shape - Quantise Model"
      ]
    },
    {
      "cell_type": "code",
      "metadata": {
        "colab": {
          "base_uri": "https://localhost:8080/"
        },
        "id": "w7ElpD22T1Rz",
        "outputId": "a0e1c700-bbfa-4f23-9a3c-18a501742e71"
      },
      "source": [
        "interpreter = tf.lite.Interpreter(model_path = TF_LITE_QUANT_MODEL_FILE_NAME)\n",
        "input_details = interpreter.get_input_details()\n",
        "output_details = interpreter.get_output_details()\n",
        "\n",
        "print(\"Input Shape:\", input_details[0]['shape'])\n",
        "print(\"Input Type:\", input_details[0]['dtype'])\n",
        "print(\"Output Shape:\", output_details[0]['shape'])\n",
        "print(\"Output Type:\", output_details[0]['dtype'])"
      ],
      "execution_count": 31,
      "outputs": [
        {
          "output_type": "stream",
          "text": [
            "Input Shape: [  1 150 150   3]\n",
            "Input Type: <class 'numpy.float32'>\n",
            "Output Shape: [1 3]\n",
            "Output Type: <class 'numpy.float32'>\n"
          ],
          "name": "stdout"
        }
      ]
    },
    {
      "cell_type": "markdown",
      "metadata": {
        "id": "eB0uCIT4Ymji"
      },
      "source": [
        "## Resize the Tensor Shape - Quantise Model"
      ]
    },
    {
      "cell_type": "code",
      "metadata": {
        "colab": {
          "base_uri": "https://localhost:8080/"
        },
        "id": "BHaLzGO2UhYO",
        "outputId": "5af988a5-e714-4ad9-c5d1-4fc481f9a721"
      },
      "source": [
        "interpreter.resize_tensor_input(input_details[0]['index'], (128, 150, 150, 3))\n",
        "interpreter.resize_tensor_input(output_details[0]['index'], (128, 3))\n",
        "interpreter.allocate_tensors()\n",
        "\n",
        "input_details = interpreter.get_input_details()\n",
        "output_details = interpreter.get_output_details()\n",
        "\n",
        "print(\"Input Shape:\", input_details[0]['shape'])\n",
        "print(\"Input Type:\", input_details[0]['dtype'])\n",
        "print(\"Output Shape:\", output_details[0]['shape'])\n",
        "print(\"Output Type:\", output_details[0]['dtype'])"
      ],
      "execution_count": 34,
      "outputs": [
        {
          "output_type": "stream",
          "text": [
            "Input Shape: [128 150 150   3]\n",
            "Input Type: <class 'numpy.float32'>\n",
            "Output Shape: [128   3]\n",
            "Output Type: <class 'numpy.float32'>\n"
          ],
          "name": "stdout"
        }
      ]
    },
    {
      "cell_type": "markdown",
      "metadata": {
        "id": "W1Na44SaZ8WT"
      },
      "source": [
        "## Making Predictions on Quantise TF-Lite Model"
      ]
    },
    {
      "cell_type": "code",
      "metadata": {
        "colab": {
          "base_uri": "https://localhost:8080/"
        },
        "id": "ksKlPdlXUkoA",
        "outputId": "ecb4842c-bd5d-4675-a919-9baa41d54bd4"
      },
      "source": [
        "interpreter.set_tensor(input_details[0]['index'], images)\n",
        "interpreter.invoke()\n",
        "\n",
        "tflite_model_predictions = interpreter.get_tensor(output_details[0]['index'])\n",
        "\n",
        "print(\"Prediction results shape:\", tflite_model_predictions.shape)\n",
        "prediction_classes = np.argmax(tflite_model_predictions, axis=1)\n",
        "expected_classes = np.argmax(labels, axis=1)\n",
        "\n",
        "acc = accuracy_score(prediction_classes, expected_classes)\n",
        "print('Test accuracy TFLITE model :', acc)"
      ],
      "execution_count": 35,
      "outputs": [
        {
          "output_type": "stream",
          "text": [
            "Prediction results shape: (128, 3)\n",
            "Test accuracy TFLITE model : 0.9609375\n"
          ],
          "name": "stdout"
        }
      ]
    },
    {
      "cell_type": "markdown",
      "metadata": {
        "id": "ygUCpNvVcdPB"
      },
      "source": [
        "# Result Summary\n",
        "\n",
        "\n",
        "| Configuration          | Baseline Model | Quantised Model |\n",
        "|------------------------|----------------|-----------------|\n",
        "| EPOCHS                 | 20             | 20              |\n",
        "| Model Accuracy         | 85.75%         | 97.84%          |\n",
        "| TF-Lite File Size      | 13.255 MB      | 3.33 MB         |\n",
        "| TF-Lite Model Accuracy | 81.25%         | 96.09%          |"
      ]
    }
  ]
}