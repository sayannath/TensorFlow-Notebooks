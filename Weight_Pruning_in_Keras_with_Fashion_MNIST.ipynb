{
  "nbformat": 4,
  "nbformat_minor": 0,
  "metadata": {
    "colab": {
      "name": "Weight Pruning in Keras with Fashion MNIST.ipynb",
      "provenance": [],
      "collapsed_sections": [],
      "toc_visible": true
    },
    "kernelspec": {
      "name": "python3",
      "display_name": "Python 3"
    },
    "language_info": {
      "name": "python"
    },
    "accelerator": "GPU"
  },
  "cells": [
    {
      "cell_type": "markdown",
      "metadata": {
        "id": "a7k5Nhs1Ixcy"
      },
      "source": [
        "# Weight Pruning\n",
        "\n",
        "**Overview**\n",
        "\n",
        "Magnitude-based weight pruning gradually zeroes out model weights during the training process to achieve model sparsity. Sparse models are easier to compress, and we can skip the zeroes during inference for latency improvements.\n",
        "\n",
        "This technique brings improvements via model compression. In the future, framework support for this technique will provide latency improvements. We've seen up to 6x improvements in model compression with minimal loss of accuracy.\n",
        "\n",
        "The technique is being evaluated in various speech applications, such as speech recognition and text-to-speech, and has been experimented on across various vision and translation models.\n",
        "\n",
        "In this example we will be using Fashion MNIST dataset.\n",
        "This example require Tensorflow 2.4 version or higher."
      ]
    },
    {
      "cell_type": "markdown",
      "metadata": {
        "id": "4rB3VhAMJsgv"
      },
      "source": [
        "## Initial Setup"
      ]
    },
    {
      "cell_type": "code",
      "metadata": {
        "colab": {
          "base_uri": "https://localhost:8080/"
        },
        "id": "dNDzooiWJxjV",
        "outputId": "b6c895a2-0730-4561-fa20-abec18560571"
      },
      "source": [
        "!nvidia-smi"
      ],
      "execution_count": 1,
      "outputs": [
        {
          "output_type": "stream",
          "text": [
            "Fri Mar 26 13:11:16 2021       \n",
            "+-----------------------------------------------------------------------------+\n",
            "| NVIDIA-SMI 460.56       Driver Version: 460.32.03    CUDA Version: 11.2     |\n",
            "|-------------------------------+----------------------+----------------------+\n",
            "| GPU  Name        Persistence-M| Bus-Id        Disp.A | Volatile Uncorr. ECC |\n",
            "| Fan  Temp  Perf  Pwr:Usage/Cap|         Memory-Usage | GPU-Util  Compute M. |\n",
            "|                               |                      |               MIG M. |\n",
            "|===============================+======================+======================|\n",
            "|   0  Tesla T4            Off  | 00000000:00:04.0 Off |                    0 |\n",
            "| N/A   66C    P8    11W /  70W |      0MiB / 15109MiB |      0%      Default |\n",
            "|                               |                      |                  N/A |\n",
            "+-------------------------------+----------------------+----------------------+\n",
            "                                                                               \n",
            "+-----------------------------------------------------------------------------+\n",
            "| Processes:                                                                  |\n",
            "|  GPU   GI   CI        PID   Type   Process name                  GPU Memory |\n",
            "|        ID   ID                                                   Usage      |\n",
            "|=============================================================================|\n",
            "|  No running processes found                                                 |\n",
            "+-----------------------------------------------------------------------------+\n"
          ],
          "name": "stdout"
        }
      ]
    },
    {
      "cell_type": "code",
      "metadata": {
        "colab": {
          "base_uri": "https://localhost:8080/"
        },
        "id": "KV21lnJbJ1qH",
        "outputId": "8928d429-37f6-45c9-f1be-eb2b9d1888a7"
      },
      "source": [
        "!pip install -q tensorflow-model-optimization"
      ],
      "execution_count": 2,
      "outputs": [
        {
          "output_type": "stream",
          "text": [
            "\u001b[?25l\r\u001b[K     |██                              | 10kB 26.3MB/s eta 0:00:01\r\u001b[K     |███▉                            | 20kB 32.9MB/s eta 0:00:01\r\u001b[K     |█████▊                          | 30kB 21.9MB/s eta 0:00:01\r\u001b[K     |███████▋                        | 40kB 25.0MB/s eta 0:00:01\r\u001b[K     |█████████▌                      | 51kB 22.1MB/s eta 0:00:01\r\u001b[K     |███████████▍                    | 61kB 24.5MB/s eta 0:00:01\r\u001b[K     |█████████████▎                  | 71kB 19.0MB/s eta 0:00:01\r\u001b[K     |███████████████▏                | 81kB 20.0MB/s eta 0:00:01\r\u001b[K     |█████████████████               | 92kB 19.2MB/s eta 0:00:01\r\u001b[K     |███████████████████             | 102kB 19.2MB/s eta 0:00:01\r\u001b[K     |████████████████████▉           | 112kB 19.2MB/s eta 0:00:01\r\u001b[K     |██████████████████████▊         | 122kB 19.2MB/s eta 0:00:01\r\u001b[K     |████████████████████████▊       | 133kB 19.2MB/s eta 0:00:01\r\u001b[K     |██████████████████████████▋     | 143kB 19.2MB/s eta 0:00:01\r\u001b[K     |████████████████████████████▌   | 153kB 19.2MB/s eta 0:00:01\r\u001b[K     |██████████████████████████████▍ | 163kB 19.2MB/s eta 0:00:01\r\u001b[K     |████████████████████████████████| 174kB 19.2MB/s \n",
            "\u001b[?25h"
          ],
          "name": "stdout"
        }
      ]
    },
    {
      "cell_type": "markdown",
      "metadata": {
        "id": "Z17MXMWfKA7U"
      },
      "source": [
        "## Helper Functions - To determine the file size"
      ]
    },
    {
      "cell_type": "code",
      "metadata": {
        "id": "aQzc0ZcdKF1H"
      },
      "source": [
        "def get_file_size(file_path):\n",
        "    size = os.path.getsize(file_path)\n",
        "    return size\n",
        "\n",
        "def convert_bytes(size, unit=None):\n",
        "    if unit == \"KB\":\n",
        "        return print('File Size: ' + str(round(size/1024, 3)) + 'Kilobytes')\n",
        "    elif unit == 'MB':\n",
        "        return print('File Size: ' + str(round(size/(1024*1024), 3)) + 'Megabytes')\n",
        "    else:\n",
        "        return print('File Size: ' + str(size) + 'bytes')"
      ],
      "execution_count": 3,
      "outputs": []
    },
    {
      "cell_type": "markdown",
      "metadata": {
        "id": "McOFIWu6Jll8"
      },
      "source": [
        "## Import the necessary modules"
      ]
    },
    {
      "cell_type": "code",
      "metadata": {
        "id": "gxKwKMCoIA3p"
      },
      "source": [
        "import os\n",
        "import time\n",
        "import numpy as np\n",
        "import pandas as pd\n",
        "import matplotlib.pyplot as plt\n",
        "import tempfile\n",
        "from sklearn.metrics import accuracy_score\n",
        "from sys import getsizeof\n",
        "\n",
        "import tensorflow as tf\n",
        "import tensorflow_model_optimization as tfmot\n",
        "from tensorflow import keras\n",
        "from tensorflow.keras.models import Sequential\n",
        "from tensorflow.keras.layers import Conv2D, Dense, Flatten, MaxPooling2D, GlobalAvgPool2D, Dropout\n",
        "\n",
        "%load_ext tensorboard"
      ],
      "execution_count": 4,
      "outputs": []
    },
    {
      "cell_type": "markdown",
      "metadata": {
        "id": "jDImDEBpKoh_"
      },
      "source": [
        "## Load the Fashion MNIST dataset"
      ]
    },
    {
      "cell_type": "markdown",
      "metadata": {
        "id": "XAJHZTedLLgc"
      },
      "source": [
        "The **[Fashion MNIST](https://github.com/zalandoresearch/fashion-mnist)** dataset which contains 70,000 grayscale images in 10 categories. The images show individual articles of clothing at low resolution (28 by 28 pixels), as seen here:\n",
        "\n",
        "![](https://www.tensorflow.org/images/fashion-mnist-sprite.png)"
      ]
    },
    {
      "cell_type": "markdown",
      "metadata": {
        "id": "Sguh6K9CWfBO"
      },
      "source": [
        "## Baseline Model"
      ]
    },
    {
      "cell_type": "code",
      "metadata": {
        "colab": {
          "base_uri": "https://localhost:8080/"
        },
        "id": "6t8m1DhyKpZa",
        "outputId": "95e33ff8-7a78-4fd0-b860-8f8d59ba2310"
      },
      "source": [
        "fashion_mnist = tf.keras.datasets.fashion_mnist\n",
        "(x_train, y_train), (x_test, y_test) = fashion_mnist.load_data()\n",
        "\n",
        "#Storing test labels\n",
        "test_labels = y_test\n",
        "\n",
        "x_train = x_train.astype(\"float32\") / 255.0\n",
        "x_train = np.reshape(x_train, (-1, 28, 28, 1))\n",
        "y_train = tf.one_hot(y_train, 10)\n",
        "\n",
        "x_test = x_test.astype(\"float32\") / 255.0\n",
        "x_test = np.reshape(x_test, (-1, 28, 28, 1))\n",
        "y_test = tf.one_hot(y_test, 10)"
      ],
      "execution_count": 5,
      "outputs": [
        {
          "output_type": "stream",
          "text": [
            "Downloading data from https://storage.googleapis.com/tensorflow/tf-keras-datasets/train-labels-idx1-ubyte.gz\n",
            "32768/29515 [=================================] - 0s 0us/step\n",
            "Downloading data from https://storage.googleapis.com/tensorflow/tf-keras-datasets/train-images-idx3-ubyte.gz\n",
            "26427392/26421880 [==============================] - 0s 0us/step\n",
            "Downloading data from https://storage.googleapis.com/tensorflow/tf-keras-datasets/t10k-labels-idx1-ubyte.gz\n",
            "8192/5148 [===============================================] - 0s 0us/step\n",
            "Downloading data from https://storage.googleapis.com/tensorflow/tf-keras-datasets/t10k-images-idx3-ubyte.gz\n",
            "4423680/4422102 [==============================] - 0s 0us/step\n"
          ],
          "name": "stdout"
        }
      ]
    },
    {
      "cell_type": "code",
      "metadata": {
        "id": "ypSVOZOoOlCi"
      },
      "source": [
        "class_name = ['T-shirt/top', 'Trouser', 'Pullover', 'Dress', 'Coat', 'Sandal', 'Shirt', 'Sneaker', 'Bag', 'Ankle Boot']"
      ],
      "execution_count": 6,
      "outputs": []
    },
    {
      "cell_type": "markdown",
      "metadata": {
        "id": "To8FXs70MQAD"
      },
      "source": [
        "#### Display the shape of the training as well testing images and labels"
      ]
    },
    {
      "cell_type": "code",
      "metadata": {
        "colab": {
          "base_uri": "https://localhost:8080/"
        },
        "id": "VhxoNwadKMyq",
        "outputId": "c63bd33f-f40a-4e59-d063-464c1a00f3af"
      },
      "source": [
        "print(\"Training Image Shape: \",x_train.shape)\n",
        "print(\"Training Label Shape\", y_train.shape)\n",
        "print(\"Testing Image Shape: \",x_test.shape)\n",
        "print(\"Testing Label Shape\", y_test.shape)"
      ],
      "execution_count": 7,
      "outputs": [
        {
          "output_type": "stream",
          "text": [
            "Training Image Shape:  (60000, 28, 28, 1)\n",
            "Training Label Shape (60000, 10)\n",
            "Testing Image Shape:  (10000, 28, 28, 1)\n",
            "Testing Label Shape (10000, 10)\n"
          ],
          "name": "stdout"
        }
      ]
    },
    {
      "cell_type": "markdown",
      "metadata": {
        "id": "LtttX65TMblr"
      },
      "source": [
        "### Define the Hyperparameters"
      ]
    },
    {
      "cell_type": "code",
      "metadata": {
        "id": "zU2puLX0MHxF"
      },
      "source": [
        "AUTO = tf.data.AUTOTUNE\n",
        "BATCH_SIZE = 64\n",
        "EPOCHS = 10\n",
        "NUM_CLASSES=10"
      ],
      "execution_count": 8,
      "outputs": []
    },
    {
      "cell_type": "markdown",
      "metadata": {
        "id": "bZHWAHlrMh5z"
      },
      "source": [
        "### Creating the Data Pipeline"
      ]
    },
    {
      "cell_type": "code",
      "metadata": {
        "id": "LRJJrk5fMfuo"
      },
      "source": [
        "train_ds = tf.data.Dataset.from_tensor_slices((x_train, y_train))\n",
        "\n",
        "train_ds = (\n",
        "    train_ds\n",
        "    .shuffle(BATCH_SIZE * 100)\n",
        "    .batch(BATCH_SIZE)\n",
        ")\n",
        "\n",
        "test_ds = tf.data.Dataset.from_tensor_slices((x_test, y_test))\n",
        "\n",
        "test_ds = (\n",
        "    test_ds\n",
        "    .batch(BATCH_SIZE)\n",
        ")"
      ],
      "execution_count": 9,
      "outputs": []
    },
    {
      "cell_type": "markdown",
      "metadata": {
        "id": "FFKt67u-OOuZ"
      },
      "source": [
        "___Pipeline___ is ready!"
      ]
    },
    {
      "cell_type": "markdown",
      "metadata": {
        "id": "9c7Zdm8HOWLX"
      },
      "source": [
        "### Visiualise the Training Images"
      ]
    },
    {
      "cell_type": "code",
      "metadata": {
        "colab": {
          "base_uri": "https://localhost:8080/",
          "height": 591
        },
        "id": "uv3BXZ5HN-eT",
        "outputId": "bdc959c5-9bbc-4caa-94f4-d1882cc5756e"
      },
      "source": [
        "sample_images, sample_labels = next(iter(train_ds))\n",
        "plt.figure(figsize=(10, 10))\n",
        "for i, (image, label) in enumerate(zip(sample_images[:9], sample_labels[:9])):\n",
        "    ax = plt.subplot(3, 3, i + 1)\n",
        "    plt.imshow(image.numpy().squeeze())\n",
        "    plt.title(class_name[np.argmax(label.numpy().tolist())])\n",
        "    plt.axis(\"off\")"
      ],
      "execution_count": 10,
      "outputs": [
        {
          "output_type": "display_data",
          "data": {
            "image/png": "[encoded data removed]",
            "text/plain": [
              "<Figure size 720x720 with 9 Axes>"
            ]
          },
          "metadata": {
            "tags": [],
            "needs_background": "light"
          }
        }
      ]
    },
    {
      "cell_type": "markdown",
      "metadata": {
        "id": "Z6x_0GcYQOsy"
      },
      "source": [
        "### Define the Model"
      ]
    },
    {
      "cell_type": "code",
      "metadata": {
        "id": "w0zuHJd8O366"
      },
      "source": [
        "def training_model():\n",
        "    model = tf.keras.Sequential(\n",
        "        [\n",
        "            Conv2D(16, (5, 5), activation=\"relu\", input_shape=(28, 28, 1)),\n",
        "            MaxPooling2D(pool_size=(2, 2)),\n",
        "            Conv2D(32, (5, 5), activation=\"relu\"),\n",
        "            MaxPooling2D(pool_size=(2, 2)),\n",
        "            Dropout(0.2),\n",
        "            GlobalAvgPool2D(),\n",
        "            Flatten(),\n",
        "            Dense(128, activation=\"relu\"),\n",
        "            Dense(NUM_CLASSES, activation=\"softmax\"),\n",
        "        ]\n",
        "    )\n",
        "    return model"
      ],
      "execution_count": 11,
      "outputs": []
    },
    {
      "cell_type": "code",
      "metadata": {
        "id": "Y-doUhJcRniS"
      },
      "source": [
        "initial_model = training_model()\n",
        "initial_model.save_weights(\"initial_weights.h5\")"
      ],
      "execution_count": 12,
      "outputs": []
    },
    {
      "cell_type": "code",
      "metadata": {
        "colab": {
          "base_uri": "https://localhost:8080/"
        },
        "id": "QlRuYCWXQnX0",
        "outputId": "63e2c521-258d-47bc-ba23-55d7f4f2c985"
      },
      "source": [
        "model = training_model()\n",
        "model.load_weights(\"initial_weights.h5\")\n",
        "\n",
        "model.summary()\n",
        "\n",
        "model.compile(optimizer='adam',\n",
        "              loss=\"categorical_crossentropy\",\n",
        "              metrics=['accuracy'])\n",
        "\n",
        "model.fit(train_ds, validation_data=test_ds, epochs=EPOCHS)\n",
        "\n",
        "test_loss, test_acc = model.evaluate(test_ds)\n",
        "print(\"Baseline Test accuracy: {:.2f}%\".format(test_acc * 100))"
      ],
      "execution_count": 13,
      "outputs": [
        {
          "output_type": "stream",
          "text": [
            "Model: \"sequential_1\"\n",
            "_________________________________________________________________\n",
            "Layer (type)                 Output Shape              Param #   \n",
            "=================================================================\n",
            "conv2d_2 (Conv2D)            (None, 24, 24, 16)        416       \n",
            "_________________________________________________________________\n",
            "max_pooling2d_2 (MaxPooling2 (None, 12, 12, 16)        0         \n",
            "_________________________________________________________________\n",
            "conv2d_3 (Conv2D)            (None, 8, 8, 32)          12832     \n",
            "_________________________________________________________________\n",
            "max_pooling2d_3 (MaxPooling2 (None, 4, 4, 32)          0         \n",
            "_________________________________________________________________\n",
            "dropout_1 (Dropout)          (None, 4, 4, 32)          0         \n",
            "_________________________________________________________________\n",
            "global_average_pooling2d_1 ( (None, 32)                0         \n",
            "_________________________________________________________________\n",
            "flatten_1 (Flatten)          (None, 32)                0         \n",
            "_________________________________________________________________\n",
            "dense_2 (Dense)              (None, 128)               4224      \n",
            "_________________________________________________________________\n",
            "dense_3 (Dense)              (None, 10)                1290      \n",
            "=================================================================\n",
            "Total params: 18,762\n",
            "Trainable params: 18,762\n",
            "Non-trainable params: 0\n",
            "_________________________________________________________________\n",
            "Epoch 1/10\n",
            "938/938 [==============================] - 36s 4ms/step - loss: 1.1849 - accuracy: 0.5637 - val_loss: 0.6812 - val_accuracy: 0.7387\n",
            "Epoch 2/10\n",
            "938/938 [==============================] - 3s 4ms/step - loss: 0.6577 - accuracy: 0.7471 - val_loss: 0.5951 - val_accuracy: 0.7766\n",
            "Epoch 3/10\n",
            "938/938 [==============================] - 3s 4ms/step - loss: 0.5712 - accuracy: 0.7883 - val_loss: 0.5265 - val_accuracy: 0.8058\n",
            "Epoch 4/10\n",
            "938/938 [==============================] - 3s 4ms/step - loss: 0.5057 - accuracy: 0.8133 - val_loss: 0.4839 - val_accuracy: 0.8286\n",
            "Epoch 5/10\n",
            "938/938 [==============================] - 3s 4ms/step - loss: 0.4640 - accuracy: 0.8312 - val_loss: 0.4451 - val_accuracy: 0.8378\n",
            "Epoch 6/10\n",
            "938/938 [==============================] - 3s 4ms/step - loss: 0.4373 - accuracy: 0.8421 - val_loss: 0.4283 - val_accuracy: 0.8503\n",
            "Epoch 7/10\n",
            "938/938 [==============================] - 3s 4ms/step - loss: 0.4087 - accuracy: 0.8514 - val_loss: 0.3965 - val_accuracy: 0.8598\n",
            "Epoch 8/10\n",
            "938/938 [==============================] - 3s 4ms/step - loss: 0.3986 - accuracy: 0.8545 - val_loss: 0.3911 - val_accuracy: 0.8580\n",
            "Epoch 9/10\n",
            "938/938 [==============================] - 3s 4ms/step - loss: 0.3746 - accuracy: 0.8627 - val_loss: 0.3685 - val_accuracy: 0.8712\n",
            "Epoch 10/10\n",
            "938/938 [==============================] - 3s 4ms/step - loss: 0.3668 - accuracy: 0.8661 - val_loss: 0.3648 - val_accuracy: 0.8697\n",
            "157/157 [==============================] - 0s 2ms/step - loss: 0.3648 - accuracy: 0.8697\n",
            "Baseline Test accuracy: 86.97%\n"
          ],
          "name": "stdout"
        }
      ]
    },
    {
      "cell_type": "markdown",
      "metadata": {
        "id": "3Q3xCi53UKI-"
      },
      "source": [
        "### Save the Baseline Model"
      ]
    },
    {
      "cell_type": "code",
      "metadata": {
        "colab": {
          "base_uri": "https://localhost:8080/"
        },
        "id": "oWI8IMPJRHRf",
        "outputId": "6deb8deb-71be-48af-b1d1-9131ca8c413b"
      },
      "source": [
        "_, keras_file = tempfile.mkstemp('.h5')\n",
        "tf.keras.models.save_model(model, keras_file, include_optimizer=False)\n",
        "\n",
        "print('Saved Baseline Model to:', keras_file)"
      ],
      "execution_count": 14,
      "outputs": [
        {
          "output_type": "stream",
          "text": [
            "Saved Baseline Model to: /tmp/tmp3nbcp8gi.h5\n"
          ],
          "name": "stdout"
        }
      ]
    },
    {
      "cell_type": "markdown",
      "metadata": {
        "id": "z-ZRh1WJWVKJ"
      },
      "source": [
        "## Fine-tune Model with Pruning"
      ]
    },
    {
      "cell_type": "code",
      "metadata": {
        "id": "11fv5se_UUCn"
      },
      "source": [
        "prune_low_magnitude = tfmot.sparsity.keras.prune_low_magnitude"
      ],
      "execution_count": 15,
      "outputs": []
    },
    {
      "cell_type": "markdown",
      "metadata": {
        "id": "o_s8QxLsXMdk"
      },
      "source": [
        "### Define the Hyperparamteres"
      ]
    },
    {
      "cell_type": "code",
      "metadata": {
        "id": "TjuK6RlWXG1P"
      },
      "source": [
        "VALIDATION_SPLIT = 0.1 \n",
        "EPOCHS=6"
      ],
      "execution_count": 16,
      "outputs": []
    },
    {
      "cell_type": "code",
      "metadata": {
        "id": "ZcC8Vdf1W3yk"
      },
      "source": [
        "images, labels = next(iter(train_ds))\n",
        "\n",
        "num_images = images.shape[0] * (1 - VALIDATION_SPLIT)\n",
        "end_step = np.ceil(num_images / BATCH_SIZE).astype(np.int32) * EPOCHS"
      ],
      "execution_count": 17,
      "outputs": []
    },
    {
      "cell_type": "markdown",
      "metadata": {
        "id": "jRjsO4y_XdgZ"
      },
      "source": [
        "### Define Model for Pruning\n"
      ]
    },
    {
      "cell_type": "code",
      "metadata": {
        "id": "tumeNSuvXZXv"
      },
      "source": [
        "pruning_params = {\n",
        "      'pruning_schedule': tfmot.sparsity.keras.PolynomialDecay(initial_sparsity=0.50,\n",
        "                                                               final_sparsity=0.80,\n",
        "                                                               begin_step=0,\n",
        "                                                               end_step=end_step)\n",
        "}"
      ],
      "execution_count": 18,
      "outputs": []
    },
    {
      "cell_type": "code",
      "metadata": {
        "colab": {
          "base_uri": "https://localhost:8080/"
        },
        "id": "0Pa-ODQvXkmr",
        "outputId": "af15185e-e7aa-46e7-c803-9b8490276744"
      },
      "source": [
        "model = training_model()\n",
        "model.load_weights(\"initial_weights.h5\")\n",
        "\n",
        "model_for_pruning = prune_low_magnitude(model, **pruning_params)"
      ],
      "execution_count": 19,
      "outputs": [
        {
          "output_type": "stream",
          "text": [
            "/usr/local/lib/python3.7/dist-packages/tensorflow/python/keras/engine/base_layer.py:2281: UserWarning: `layer.add_variable` is deprecated and will be removed in a future version. Please use `layer.add_weight` method instead.\n",
            "  warnings.warn('`layer.add_variable` is deprecated and '\n"
          ],
          "name": "stderr"
        }
      ]
    },
    {
      "cell_type": "markdown",
      "metadata": {
        "id": "SfJFfuaCX8iR"
      },
      "source": [
        "### `prune_low_magnitude` requires a recompile."
      ]
    },
    {
      "cell_type": "code",
      "metadata": {
        "colab": {
          "base_uri": "https://localhost:8080/"
        },
        "id": "vUmmm6oqXw8D",
        "outputId": "8abbe484-312f-4d87-f7fc-4c9797a563fb"
      },
      "source": [
        "model_for_pruning.compile(optimizer='adam',\n",
        "              loss=\"categorical_crossentropy\",\n",
        "              metrics=['accuracy'])\n",
        "\n",
        "model_for_pruning.summary()"
      ],
      "execution_count": 20,
      "outputs": [
        {
          "output_type": "stream",
          "text": [
            "Model: \"sequential_2\"\n",
            "_________________________________________________________________\n",
            "Layer (type)                 Output Shape              Param #   \n",
            "=================================================================\n",
            "prune_low_magnitude_conv2d_4 (None, 24, 24, 16)        818       \n",
            "_________________________________________________________________\n",
            "prune_low_magnitude_max_pool (None, 12, 12, 16)        1         \n",
            "_________________________________________________________________\n",
            "prune_low_magnitude_conv2d_5 (None, 8, 8, 32)          25634     \n",
            "_________________________________________________________________\n",
            "prune_low_magnitude_max_pool (None, 4, 4, 32)          1         \n",
            "_________________________________________________________________\n",
            "prune_low_magnitude_dropout_ (None, 4, 4, 32)          1         \n",
            "_________________________________________________________________\n",
            "prune_low_magnitude_global_a (None, 32)                1         \n",
            "_________________________________________________________________\n",
            "prune_low_magnitude_flatten_ (None, 32)                1         \n",
            "_________________________________________________________________\n",
            "prune_low_magnitude_dense_4  (None, 128)               8322      \n",
            "_________________________________________________________________\n",
            "prune_low_magnitude_dense_5  (None, 10)                2572      \n",
            "=================================================================\n",
            "Total params: 37,351\n",
            "Trainable params: 18,762\n",
            "Non-trainable params: 18,589\n",
            "_________________________________________________________________\n"
          ],
          "name": "stdout"
        }
      ]
    },
    {
      "cell_type": "code",
      "metadata": {
        "colab": {
          "base_uri": "https://localhost:8080/"
        },
        "id": "kK1vAql8X3tj",
        "outputId": "1a07ffbe-27ef-48fe-b9bc-200feb0839a3"
      },
      "source": [
        "logdir = tempfile.mkdtemp()\n",
        "\n",
        "callbacks = [\n",
        "  tfmot.sparsity.keras.UpdatePruningStep(),\n",
        "  tfmot.sparsity.keras.PruningSummaries(log_dir=logdir),\n",
        "]\n",
        "\n",
        "model_for_pruning.fit(train_ds, validation_data=test_ds, epochs=EPOCHS, callbacks=callbacks)\n",
        "_, model_for_pruning_accuracy = model_for_pruning.evaluate(test_ds)\n",
        "print(\"Pruned test accuracy: {:.2f}%\".format(model_for_pruning_accuracy * 100))"
      ],
      "execution_count": 21,
      "outputs": [
        {
          "output_type": "stream",
          "text": [
            "Epoch 1/6\n",
            "  3/938 [..............................] - ETA: 4:22 - loss: 2.2953 - accuracy: 0.1276WARNING:tensorflow:Callback method `on_train_batch_begin` is slow compared to the batch time (batch time: 0.0076s vs `on_train_batch_begin` time: 0.0519s). Check your callbacks.\n",
            "WARNING:tensorflow:Callback method `on_train_batch_end` is slow compared to the batch time (batch time: 0.0076s vs `on_train_batch_end` time: 0.0414s). Check your callbacks.\n",
            "938/938 [==============================] - 12s 10ms/step - loss: 1.3383 - accuracy: 0.5146 - val_loss: 0.7343 - val_accuracy: 0.7356\n",
            "Epoch 2/6\n",
            "938/938 [==============================] - 9s 10ms/step - loss: 0.7143 - accuracy: 0.7331 - val_loss: 0.6354 - val_accuracy: 0.7685\n",
            "Epoch 3/6\n",
            "938/938 [==============================] - 9s 10ms/step - loss: 0.6257 - accuracy: 0.7637 - val_loss: 0.5806 - val_accuracy: 0.7815\n",
            "Epoch 4/6\n",
            "938/938 [==============================] - 9s 9ms/step - loss: 0.5742 - accuracy: 0.7855 - val_loss: 0.5425 - val_accuracy: 0.8047\n",
            "Epoch 5/6\n",
            "938/938 [==============================] - 9s 9ms/step - loss: 0.5300 - accuracy: 0.8056 - val_loss: 0.5064 - val_accuracy: 0.8163\n",
            "Epoch 6/6\n",
            "938/938 [==============================] - 9s 9ms/step - loss: 0.4993 - accuracy: 0.8198 - val_loss: 0.4850 - val_accuracy: 0.8290\n",
            "157/157 [==============================] - 0s 2ms/step - loss: 0.4850 - accuracy: 0.8290\n",
            "Pruned test accuracy: 82.90%\n"
          ],
          "name": "stdout"
        }
      ]
    },
    {
      "cell_type": "markdown",
      "metadata": {
        "id": "p3omtvNUbcbw"
      },
      "source": [
        "### Save the Pruning Model"
      ]
    },
    {
      "cell_type": "code",
      "metadata": {
        "colab": {
          "base_uri": "https://localhost:8080/"
        },
        "id": "1f1Nu3TRbcIH",
        "outputId": "03bad57a-4de1-41b0-d55f-c943f3541d83"
      },
      "source": [
        "model_for_export = tfmot.sparsity.keras.strip_pruning(model_for_pruning)\n",
        "\n",
        "_, pruned_keras_file = tempfile.mkstemp('.h5')\n",
        "tf.keras.models.save_model(model_for_export, pruned_keras_file, include_optimizer=False)\n",
        "print('Saved pruned Keras model to:', pruned_keras_file)"
      ],
      "execution_count": 22,
      "outputs": [
        {
          "output_type": "stream",
          "text": [
            "Saved pruned Keras model to: /tmp/tmpx45i9kk8.h5\n"
          ],
          "name": "stdout"
        }
      ]
    },
    {
      "cell_type": "markdown",
      "metadata": {
        "id": "gC0k2_SJeTSO"
      },
      "source": [
        "## Saving the TF-Lite Model"
      ]
    },
    {
      "cell_type": "code",
      "metadata": {
        "id": "kfxqBBflcgkE"
      },
      "source": [
        "TF_LITE_MODEL_FILE_NAME = 'simple_model.tflite'\n",
        "TF_LITE_PRUNED_MODEL_FILE_NAME = 'pruned_model.tflite'"
      ],
      "execution_count": 23,
      "outputs": []
    },
    {
      "cell_type": "markdown",
      "metadata": {
        "id": "g1n4nP6Ve3Cp"
      },
      "source": [
        "### Convert the Simple Model to TF-Lite"
      ]
    },
    {
      "cell_type": "code",
      "metadata": {
        "colab": {
          "base_uri": "https://localhost:8080/"
        },
        "id": "X2Xi3gcweoXs",
        "outputId": "1ff1d820-3305-4b85-e0a0-313c6a9bf7bd"
      },
      "source": [
        "tf_lite_converter = tf.lite.TFLiteConverter.from_keras_model(model)\n",
        "tflite_model = tf_lite_converter.convert()\n",
        "\n",
        "tflite_model_name = TF_LITE_MODEL_FILE_NAME\n",
        "open(tflite_model_name, \"wb\").write(tflite_model)\n",
        "\n",
        "convert_bytes(get_file_size(TF_LITE_MODEL_FILE_NAME), \"KB\")"
      ],
      "execution_count": 24,
      "outputs": [
        {
          "output_type": "stream",
          "text": [
            "INFO:tensorflow:Assets written to: /tmp/tmpzvz7ldko/assets\n",
            "File Size: 76.684Kilobytes\n"
          ],
          "name": "stdout"
        }
      ]
    },
    {
      "cell_type": "markdown",
      "metadata": {
        "id": "2Y-97M4afEm6"
      },
      "source": [
        "### Checking the Input Tensor Shape"
      ]
    },
    {
      "cell_type": "code",
      "metadata": {
        "colab": {
          "base_uri": "https://localhost:8080/"
        },
        "id": "e818Y-zee9gV",
        "outputId": "514ba293-52d1-4978-9f26-2143cee3bbcd"
      },
      "source": [
        "interpreter = tf.lite.Interpreter(model_path = TF_LITE_MODEL_FILE_NAME)\n",
        "input_details = interpreter.get_input_details()\n",
        "output_details = interpreter.get_output_details()\n",
        "\n",
        "print(\"Input Shape:\", input_details[0]['shape'])\n",
        "print(\"Input Type:\", input_details[0]['dtype'])\n",
        "print(\"Output Shape:\", output_details[0]['shape'])\n",
        "print(\"Output Type:\", output_details[0]['dtype'])"
      ],
      "execution_count": 25,
      "outputs": [
        {
          "output_type": "stream",
          "text": [
            "Input Shape: [ 1 28 28  1]\n",
            "Input Type: <class 'numpy.float32'>\n",
            "Output Shape: [ 1 10]\n",
            "Output Type: <class 'numpy.float32'>\n"
          ],
          "name": "stdout"
        }
      ]
    },
    {
      "cell_type": "markdown",
      "metadata": {
        "id": "xRfwtdQNfMMc"
      },
      "source": [
        "### Resize Tensor Shape"
      ]
    },
    {
      "cell_type": "code",
      "metadata": {
        "colab": {
          "base_uri": "https://localhost:8080/"
        },
        "id": "OLiFdfcRfKKT",
        "outputId": "817cb027-547e-4215-b3eb-fa279ba799df"
      },
      "source": [
        "interpreter.resize_tensor_input(input_details[0]['index'], (10000, 28, 28, 1))\n",
        "interpreter.resize_tensor_input(output_details[0]['index'], (10000, 10))\n",
        "interpreter.allocate_tensors()\n",
        "\n",
        "input_details = interpreter.get_input_details()\n",
        "output_details = interpreter.get_output_details()\n",
        "\n",
        "print(\"Input Shape:\", input_details[0]['shape'])\n",
        "print(\"Input Type:\", input_details[0]['dtype'])\n",
        "print(\"Output Shape:\", output_details[0]['shape'])\n",
        "print(\"Output Type:\", output_details[0]['dtype'])"
      ],
      "execution_count": 26,
      "outputs": [
        {
          "output_type": "stream",
          "text": [
            "Input Shape: [10000    28    28     1]\n",
            "Input Type: <class 'numpy.float32'>\n",
            "Output Shape: [10000    10]\n",
            "Output Type: <class 'numpy.float32'>\n"
          ],
          "name": "stdout"
        }
      ]
    },
    {
      "cell_type": "markdown",
      "metadata": {
        "id": "l7eJGRHwh-yj"
      },
      "source": [
        "### Make predictions on Baseline TF-Lite Model"
      ]
    },
    {
      "cell_type": "code",
      "metadata": {
        "colab": {
          "base_uri": "https://localhost:8080/"
        },
        "id": "pNGtR_VMfaI9",
        "outputId": "9206702e-b228-4e11-d34a-1faaff5c1328"
      },
      "source": [
        "test_imgs_numpy = np.array(x_test, dtype=np.float32)\n",
        "\n",
        "interpreter.set_tensor(input_details[0]['index'], test_imgs_numpy)\n",
        "interpreter.invoke()\n",
        "\n",
        "tflite_model_predictions = interpreter.get_tensor(output_details[0]['index'])\n",
        "\n",
        "print(\"Prediction results shape:\", tflite_model_predictions.shape)\n",
        "prediction_classes = np.argmax(tflite_model_predictions, axis=1)\n",
        "\n",
        "acc = accuracy_score(prediction_classes, test_labels)\n",
        "print('Test accuracy TFLITE Baseline Model :', acc)"
      ],
      "execution_count": 27,
      "outputs": [
        {
          "output_type": "stream",
          "text": [
            "Prediction results shape: (10000, 10)\n",
            "Test accuracy TFLITE Baseline Model : 0.829\n"
          ],
          "name": "stdout"
        }
      ]
    },
    {
      "cell_type": "markdown",
      "metadata": {
        "id": "EbFreY2RhFXW"
      },
      "source": [
        "### Convert the pruned model to tflite"
      ]
    },
    {
      "cell_type": "code",
      "metadata": {
        "colab": {
          "base_uri": "https://localhost:8080/"
        },
        "id": "-2ZyS7I0f8Lr",
        "outputId": "5424f035-7950-46e7-9e5c-70c6c63e0c59"
      },
      "source": [
        "tf_lite_converter = tf.lite.TFLiteConverter.from_keras_model(model_for_export)\n",
        "tflite_model = tf_lite_converter.convert()\n",
        "\n",
        "tflite_model_name = TF_LITE_PRUNED_MODEL_FILE_NAME\n",
        "open(tflite_model_name, \"wb\").write(tflite_model)\n",
        "\n",
        "convert_bytes(get_file_size(TF_LITE_PRUNED_MODEL_FILE_NAME), \"KB\")"
      ],
      "execution_count": 28,
      "outputs": [
        {
          "output_type": "stream",
          "text": [
            "INFO:tensorflow:Assets written to: /tmp/tmpobl8nwfr/assets\n"
          ],
          "name": "stdout"
        },
        {
          "output_type": "stream",
          "text": [
            "INFO:tensorflow:Assets written to: /tmp/tmpobl8nwfr/assets\n"
          ],
          "name": "stderr"
        },
        {
          "output_type": "stream",
          "text": [
            "File Size: 76.684Kilobytes\n"
          ],
          "name": "stdout"
        }
      ]
    },
    {
      "cell_type": "markdown",
      "metadata": {
        "id": "pIZeH7p5hp75"
      },
      "source": [
        "### Check the Input Tensor Shape"
      ]
    },
    {
      "cell_type": "code",
      "metadata": {
        "id": "0oPD0YCwhVkd",
        "colab": {
          "base_uri": "https://localhost:8080/"
        },
        "outputId": "b0bd0941-a210-4c05-f767-80e3055814e9"
      },
      "source": [
        "interpreter = tf.lite.Interpreter(model_path = TF_LITE_PRUNED_MODEL_FILE_NAME)\n",
        "input_details = interpreter.get_input_details()\n",
        "output_details = interpreter.get_output_details()\n",
        "\n",
        "print(\"Input Shape:\", input_details[0]['shape'])\n",
        "print(\"Input Type:\", input_details[0]['dtype'])\n",
        "print(\"Output Shape:\", output_details[0]['shape'])\n",
        "print(\"Output Type:\", output_details[0]['dtype'])"
      ],
      "execution_count": 29,
      "outputs": [
        {
          "output_type": "stream",
          "text": [
            "Input Shape: [ 1 28 28  1]\n",
            "Input Type: <class 'numpy.float32'>\n",
            "Output Shape: [ 1 10]\n",
            "Output Type: <class 'numpy.float32'>\n"
          ],
          "name": "stdout"
        }
      ]
    },
    {
      "cell_type": "markdown",
      "metadata": {
        "id": "or3W7CnAhwgc"
      },
      "source": [
        "### Resize the Tensor Shape"
      ]
    },
    {
      "cell_type": "code",
      "metadata": {
        "id": "E1p5ln9-haG-",
        "colab": {
          "base_uri": "https://localhost:8080/"
        },
        "outputId": "ad29401c-3699-424f-f6c5-31bc9ab11d13"
      },
      "source": [
        "interpreter.resize_tensor_input(input_details[0]['index'], (10000, 28, 28, 1))\n",
        "interpreter.resize_tensor_input(output_details[0]['index'], (10000, 10))\n",
        "interpreter.allocate_tensors()\n",
        "\n",
        "input_details = interpreter.get_input_details()\n",
        "output_details = interpreter.get_output_details()\n",
        "\n",
        "print(\"Input Shape:\", input_details[0]['shape'])\n",
        "print(\"Input Type:\", input_details[0]['dtype'])\n",
        "print(\"Output Shape:\", output_details[0]['shape'])\n",
        "print(\"Output Type:\", output_details[0]['dtype'])"
      ],
      "execution_count": 30,
      "outputs": [
        {
          "output_type": "stream",
          "text": [
            "Input Shape: [10000    28    28     1]\n",
            "Input Type: <class 'numpy.float32'>\n",
            "Output Shape: [10000    10]\n",
            "Output Type: <class 'numpy.float32'>\n"
          ],
          "name": "stdout"
        }
      ]
    },
    {
      "cell_type": "markdown",
      "metadata": {
        "id": "XcKk40nSh1Zp"
      },
      "source": [
        "### Make predictions on Pruned TF-Lite Model"
      ]
    },
    {
      "cell_type": "code",
      "metadata": {
        "id": "oRORnk94he74",
        "colab": {
          "base_uri": "https://localhost:8080/"
        },
        "outputId": "1047e19c-5a3f-49a1-9982-293c61bd313b"
      },
      "source": [
        "test_imgs_numpy = np.array(x_test, dtype=np.float32)\n",
        "\n",
        "interpreter.set_tensor(input_details[0]['index'], test_imgs_numpy)\n",
        "interpreter.invoke()\n",
        "\n",
        "tflite_model_predictions = interpreter.get_tensor(output_details[0]['index'])\n",
        "\n",
        "print(\"Prediction results shape:\", tflite_model_predictions.shape)\n",
        "prediction_classes = np.argmax(tflite_model_predictions, axis=1)\n",
        "\n",
        "acc_pruned = accuracy_score(prediction_classes, test_labels)\n",
        "print('Test accuracy TFLITE Pruned Model :', acc_pruned)"
      ],
      "execution_count": 31,
      "outputs": [
        {
          "output_type": "stream",
          "text": [
            "Prediction results shape: (10000, 10)\n",
            "Test accuracy TFLITE Pruned Model : 0.829\n"
          ],
          "name": "stdout"
        }
      ]
    },
    {
      "cell_type": "markdown",
      "metadata": {
        "id": "F_VDR3tMqD5z"
      },
      "source": [
        "## **Baseline Model vs Pruned Model**\n",
        "\n",
        "| Configuration          | Baseline Model | Pruned Model |\n",
        "|------------------------|----------------|--------------|\n",
        "| EPOCHS                 | 10             | 6            |\n",
        "| Model Accuracy         | 86.97%         | 82.90%       |\n",
        "| TF-Lite File Size      | 76.684 KB      | 76.684 KB    |\n",
        "| TF-Lite Model Accuracy | 82.90%         | 82.90%       |\n",
        "\n",
        "\n"
      ]
    },
    {
      "cell_type": "markdown",
      "metadata": {
        "id": "csqbWIgRqZuI"
      },
      "source": [
        "## Note\n",
        "\n",
        "This notebook shows an example of Pruning with Tensorflow with the help of Fashion MNIST Dataset.\n",
        "\n",
        "[Pruning](https://www.tensorflow.org/model_optimization/guide/pruning) is one of the method to optimise the tensorflow models\n",
        "For a Comprehensive Guide you can click [here](https://www.tensorflow.org/model_optimization/guide/pruning/comprehensive_guide)"
      ]
    },
    {
      "cell_type": "markdown",
      "metadata": {
        "id": "Uv3AKa6PsYm1"
      },
      "source": [
        "# By [Sayan Nath](https://github.com/sayannath)"
      ]
    }
  ]
}